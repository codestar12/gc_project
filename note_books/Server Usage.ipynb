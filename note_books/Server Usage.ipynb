{
 "cells": [
  {
   "cell_type": "code",
   "execution_count": 1,
   "metadata": {
    "collapsed": true
   },
   "outputs": [],
   "source": [
    "import pandas as pd\n",
    "import numpy as np"
   ]
  },
  {
   "cell_type": "code",
   "execution_count": 3,
   "metadata": {
    "collapsed": true
   },
   "outputs": [],
   "source": [
    "df = pd.read_csv(\"/home/garrett/gc_project/data/server_usage.csv\")"
   ]
  },
  {
   "cell_type": "code",
   "execution_count": 5,
   "metadata": {},
   "outputs": [
    {
     "data": {
      "text/plain": [
       "0    23.38\n",
       "1    26.36\n",
       "2    49.14\n",
       "3    33.24\n",
       "4    45.72\n",
       "Name: util_CPU, dtype: float64"
      ]
     },
     "execution_count": 5,
     "metadata": {},
     "output_type": "execute_result"
    }
   ],
   "source": [
    "(df.util_CPU).head()"
   ]
  },
  {
   "cell_type": "code",
   "execution_count": 7,
   "metadata": {},
   "outputs": [
    {
     "data": {
      "text/plain": [
       "89.719999694820004"
      ]
     },
     "execution_count": 7,
     "metadata": {},
     "output_type": "execute_result"
    }
   ],
   "source": [
    "max(df[\"util_CPU\"])"
   ]
  },
  {
   "cell_type": "code",
   "execution_count": 11,
   "metadata": {},
   "outputs": [
    {
     "name": "stdout",
     "output_type": "stream",
     "text": [
      "0    23.38\n",
      "1    26.36\n",
      "2    49.14\n",
      "3    33.24\n",
      "4    45.72\n",
      "Name: util_CPU, dtype: float64 \n",
      " 0    15.82\n",
      "1    17.46\n",
      "2    33.20\n",
      "3    21.84\n",
      "4    34.10\n",
      "Name: load1, dtype: float64 \n",
      " 0    13.860000\n",
      "1    18.900000\n",
      "2    31.220000\n",
      "3    22.100000\n",
      "4    36.239999\n",
      "Name: load5, dtype: float64 \n",
      " 0    12.64\n",
      "1    16.70\n",
      "2    30.52\n",
      "3    24.02\n",
      "4    36.92\n",
      "Name: load15, dtype: float64\n"
     ]
    }
   ],
   "source": [
    "print(df.util_CPU.head(),\"\\n\", df[\"load1\"].head(),\"\\n\", df.load5.head(),'\\n', df.load15.head())\n"
   ]
  },
  {
   "cell_type": "code",
   "execution_count": 12,
   "metadata": {},
   "outputs": [
    {
     "data": {
      "text/html": [
       "<div>\n",
       "<style>\n",
       "    .dataframe thead tr:only-child th {\n",
       "        text-align: right;\n",
       "    }\n",
       "\n",
       "    .dataframe thead th {\n",
       "        text-align: left;\n",
       "    }\n",
       "\n",
       "    .dataframe tbody tr th {\n",
       "        vertical-align: top;\n",
       "    }\n",
       "</style>\n",
       "<table border=\"1\" class=\"dataframe\">\n",
       "  <thead>\n",
       "    <tr style=\"text-align: right;\">\n",
       "      <th></th>\n",
       "      <th>timestamp</th>\n",
       "      <th>machineID</th>\n",
       "      <th>util_CPU</th>\n",
       "      <th>util_mem</th>\n",
       "      <th>util_disk</th>\n",
       "      <th>load1</th>\n",
       "      <th>load5</th>\n",
       "      <th>load15</th>\n",
       "    </tr>\n",
       "  </thead>\n",
       "  <tbody>\n",
       "    <tr>\n",
       "      <th>10</th>\n",
       "      <td>40800</td>\n",
       "      <td>47</td>\n",
       "      <td>41.220000</td>\n",
       "      <td>50.24</td>\n",
       "      <td>57.200001</td>\n",
       "      <td>55.099999</td>\n",
       "      <td>62.180000</td>\n",
       "      <td>60.200000</td>\n",
       "    </tr>\n",
       "    <tr>\n",
       "      <th>14</th>\n",
       "      <td>41400</td>\n",
       "      <td>903</td>\n",
       "      <td>55.539999</td>\n",
       "      <td>53.88</td>\n",
       "      <td>41.299999</td>\n",
       "      <td>60.000001</td>\n",
       "      <td>57.360000</td>\n",
       "      <td>55.280001</td>\n",
       "    </tr>\n",
       "    <tr>\n",
       "      <th>31</th>\n",
       "      <td>39600</td>\n",
       "      <td>695</td>\n",
       "      <td>66.700000</td>\n",
       "      <td>76.18</td>\n",
       "      <td>42.200001</td>\n",
       "      <td>82.859999</td>\n",
       "      <td>81.679999</td>\n",
       "      <td>74.539999</td>\n",
       "    </tr>\n",
       "    <tr>\n",
       "      <th>35</th>\n",
       "      <td>41400</td>\n",
       "      <td>901</td>\n",
       "      <td>59.139999</td>\n",
       "      <td>55.78</td>\n",
       "      <td>41.400002</td>\n",
       "      <td>67.819999</td>\n",
       "      <td>61.380000</td>\n",
       "      <td>60.280000</td>\n",
       "    </tr>\n",
       "    <tr>\n",
       "      <th>71</th>\n",
       "      <td>41100</td>\n",
       "      <td>769</td>\n",
       "      <td>35.060000</td>\n",
       "      <td>52.20</td>\n",
       "      <td>41.900002</td>\n",
       "      <td>40.140000</td>\n",
       "      <td>31.659999</td>\n",
       "      <td>24.540000</td>\n",
       "    </tr>\n",
       "  </tbody>\n",
       "</table>\n",
       "</div>"
      ],
      "text/plain": [
       "    timestamp  machineID   util_CPU  util_mem  util_disk      load1  \\\n",
       "10      40800         47  41.220000     50.24  57.200001  55.099999   \n",
       "14      41400        903  55.539999     53.88  41.299999  60.000001   \n",
       "31      39600        695  66.700000     76.18  42.200001  82.859999   \n",
       "35      41400        901  59.139999     55.78  41.400002  67.819999   \n",
       "71      41100        769  35.060000     52.20  41.900002  40.140000   \n",
       "\n",
       "        load5     load15  \n",
       "10  62.180000  60.200000  \n",
       "14  57.360000  55.280001  \n",
       "31  81.679999  74.539999  \n",
       "35  61.380000  60.280000  \n",
       "71  31.659999  24.540000  "
      ]
     },
     "execution_count": 12,
     "metadata": {},
     "output_type": "execute_result"
    }
   ],
   "source": [
    "df[df.util_CPU < df.load1].head()"
   ]
  },
  {
   "cell_type": "code",
   "execution_count": null,
   "metadata": {
    "collapsed": true
   },
   "outputs": [],
   "source": []
  }
 ],
 "metadata": {
  "kernelspec": {
   "display_name": "Python 3",
   "language": "python",
   "name": "python3"
  },
  "language_info": {
   "codemirror_mode": {
    "name": "ipython",
    "version": 3
   },
   "file_extension": ".py",
   "mimetype": "text/x-python",
   "name": "python",
   "nbconvert_exporter": "python",
   "pygments_lexer": "ipython3",
   "version": "3.6.1"
  }
 },
 "nbformat": 4,
 "nbformat_minor": 2
}
