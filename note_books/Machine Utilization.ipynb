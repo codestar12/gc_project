{
 "cells": [
  {
   "cell_type": "code",
   "execution_count": 2,
   "metadata": {
    "collapsed": true
   },
   "outputs": [],
   "source": [
    "import pandas as pd\n",
    "import numpy as np"
   ]
  },
  {
   "cell_type": "code",
   "execution_count": 4,
   "metadata": {
    "collapsed": true
   },
   "outputs": [],
   "source": [
    "df = pd.read_csv(\"/home/codyblakeney/private/personal_repo/gc_project/data/server_usage.csv\")"
   ]
  },
  {
   "cell_type": "code",
   "execution_count": 5,
   "metadata": {},
   "outputs": [
    {
     "data": {
      "text/html": [
       "<div>\n",
       "<style>\n",
       "    .dataframe thead tr:only-child th {\n",
       "        text-align: right;\n",
       "    }\n",
       "\n",
       "    .dataframe thead th {\n",
       "        text-align: left;\n",
       "    }\n",
       "\n",
       "    .dataframe tbody tr th {\n",
       "        vertical-align: top;\n",
       "    }\n",
       "</style>\n",
       "<table border=\"1\" class=\"dataframe\">\n",
       "  <thead>\n",
       "    <tr style=\"text-align: right;\">\n",
       "      <th></th>\n",
       "      <th>timestamp</th>\n",
       "      <th>machineID</th>\n",
       "      <th>util_CPU</th>\n",
       "      <th>util_memory</th>\n",
       "      <th>util_disk</th>\n",
       "      <th>load1</th>\n",
       "      <th>load5</th>\n",
       "      <th>load15</th>\n",
       "    </tr>\n",
       "  </thead>\n",
       "  <tbody>\n",
       "    <tr>\n",
       "      <th>0</th>\n",
       "      <td>41700</td>\n",
       "      <td>237</td>\n",
       "      <td>23.38</td>\n",
       "      <td>30.080000</td>\n",
       "      <td>42.200001</td>\n",
       "      <td>15.82</td>\n",
       "      <td>13.860000</td>\n",
       "      <td>12.64</td>\n",
       "    </tr>\n",
       "    <tr>\n",
       "      <th>1</th>\n",
       "      <td>39600</td>\n",
       "      <td>265</td>\n",
       "      <td>26.36</td>\n",
       "      <td>29.540000</td>\n",
       "      <td>57.599998</td>\n",
       "      <td>17.46</td>\n",
       "      <td>18.900000</td>\n",
       "      <td>16.70</td>\n",
       "    </tr>\n",
       "    <tr>\n",
       "      <th>2</th>\n",
       "      <td>42600</td>\n",
       "      <td>770</td>\n",
       "      <td>49.14</td>\n",
       "      <td>60.099999</td>\n",
       "      <td>41.860001</td>\n",
       "      <td>33.20</td>\n",
       "      <td>31.220000</td>\n",
       "      <td>30.52</td>\n",
       "    </tr>\n",
       "    <tr>\n",
       "      <th>3</th>\n",
       "      <td>40800</td>\n",
       "      <td>776</td>\n",
       "      <td>33.24</td>\n",
       "      <td>47.520000</td>\n",
       "      <td>43.599998</td>\n",
       "      <td>21.84</td>\n",
       "      <td>22.100000</td>\n",
       "      <td>24.02</td>\n",
       "    </tr>\n",
       "    <tr>\n",
       "      <th>4</th>\n",
       "      <td>42900</td>\n",
       "      <td>393</td>\n",
       "      <td>45.72</td>\n",
       "      <td>58.720000</td>\n",
       "      <td>42.000000</td>\n",
       "      <td>34.10</td>\n",
       "      <td>36.239999</td>\n",
       "      <td>36.92</td>\n",
       "    </tr>\n",
       "  </tbody>\n",
       "</table>\n",
       "</div>"
      ],
      "text/plain": [
       "   timestamp  machineID  util_CPU  util_memory  util_disk  load1      load5  \\\n",
       "0      41700        237     23.38    30.080000  42.200001  15.82  13.860000   \n",
       "1      39600        265     26.36    29.540000  57.599998  17.46  18.900000   \n",
       "2      42600        770     49.14    60.099999  41.860001  33.20  31.220000   \n",
       "3      40800        776     33.24    47.520000  43.599998  21.84  22.100000   \n",
       "4      42900        393     45.72    58.720000  42.000000  34.10  36.239999   \n",
       "\n",
       "   load15  \n",
       "0   12.64  \n",
       "1   16.70  \n",
       "2   30.52  \n",
       "3   24.02  \n",
       "4   36.92  "
      ]
     },
     "execution_count": 5,
     "metadata": {},
     "output_type": "execute_result"
    }
   ],
   "source": [
    "df.head()"
   ]
  },
  {
   "cell_type": "code",
   "execution_count": 10,
   "metadata": {},
   "outputs": [],
   "source": [
    "first = np.sort(df.timestamp)[0]\n",
    "last = np.sort(df.timestamp)[-1]"
   ]
  },
  {
   "cell_type": "code",
   "execution_count": 11,
   "metadata": {},
   "outputs": [
    {
     "name": "stdout",
     "output_type": "stream",
     "text": [
      "first: 39600 last: 82500\n"
     ]
    }
   ],
   "source": [
    "print(\"first:\", first, \"last:\", last)"
   ]
  },
  {
   "cell_type": "code",
   "execution_count": 43,
   "metadata": {},
   "outputs": [],
   "source": [
    "max_servers = 0\n",
    "min_servers = 1311\n",
    "count_below = 0\n",
    "for i in np.sort((list(set(df.timestamp)))):\n",
    "    num = sum(df.timestamp == i)\n",
    "    if num > max_servers:\n",
    "        max_servers = num\n",
    "    if num < min_servers:\n",
    "        if num < 1310:\n",
    "            count_below += 1\n",
    "        min_servers = num\n",
    "        "
   ]
  },
  {
   "cell_type": "code",
   "execution_count": 44,
   "metadata": {},
   "outputs": [
    {
     "data": {
      "text/plain": [
       "1310"
      ]
     },
     "execution_count": 44,
     "metadata": {},
     "output_type": "execute_result"
    }
   ],
   "source": [
    "max_servers"
   ]
  },
  {
   "cell_type": "code",
   "execution_count": 45,
   "metadata": {},
   "outputs": [
    {
     "data": {
      "text/plain": [
       "976"
      ]
     },
     "execution_count": 45,
     "metadata": {},
     "output_type": "execute_result"
    }
   ],
   "source": [
    "min_servers"
   ]
  },
  {
   "cell_type": "code",
   "execution_count": 46,
   "metadata": {},
   "outputs": [
    {
     "data": {
      "text/plain": [
       "2"
      ]
     },
     "execution_count": 46,
     "metadata": {},
     "output_type": "execute_result"
    }
   ],
   "source": [
    "count_below"
   ]
  },
  {
   "cell_type": "code",
   "execution_count": 48,
   "metadata": {},
   "outputs": [
    {
     "data": {
      "text/plain": [
       "1310"
      ]
     },
     "execution_count": 48,
     "metadata": {},
     "output_type": "execute_result"
    }
   ],
   "source": [
    "sum(df.timestamp == 82200)"
   ]
  },
  {
   "cell_type": "code",
   "execution_count": 21,
   "metadata": {},
   "outputs": [
    {
     "data": {
      "text/plain": [
       "297.91666666666669"
      ]
     },
     "execution_count": 21,
     "metadata": {},
     "output_type": "execute_result"
    }
   ],
   "source": [
    "(last - first) / len(set(df.timestamp))"
   ]
  },
  {
   "cell_type": "code",
   "execution_count": 20,
   "metadata": {},
   "outputs": [
    {
     "data": {
      "text/plain": [
       "-42900"
      ]
     },
     "execution_count": 20,
     "metadata": {},
     "output_type": "execute_result"
    }
   ],
   "source": [
    "first - last"
   ]
  },
  {
   "cell_type": "code",
   "execution_count": 49,
   "metadata": {},
   "outputs": [],
   "source": [
    "timestamps = np.sort((list(set(df.timestamp))))"
   ]
  },
  {
   "cell_type": "code",
   "execution_count": 54,
   "metadata": {
    "collapsed": true
   },
   "outputs": [],
   "source": [
    "cpu_utilization_sum = {}\n",
    "for ts in timestamps:\n",
    "    cpu_utilization_sum[ts] = sum(df[df.timestamp == ts].util_CPU)"
   ]
  },
  {
   "cell_type": "code",
   "execution_count": 56,
   "metadata": {
    "collapsed": true
   },
   "outputs": [],
   "source": [
    "mem_utilization_sum = {}\n",
    "for ts in timestamps:\n",
    "    mem_utilization_sum[ts] = sum(df[df.timestamp == ts].util_memory)"
   ]
  },
  {
   "cell_type": "code",
   "execution_count": 58,
   "metadata": {
    "collapsed": true
   },
   "outputs": [],
   "source": [
    "disk_utilization_sum = {}\n",
    "for ts in timestamps:\n",
    "    disk_utilization_sum[ts] = sum(df[df.timestamp == ts].util_disk)"
   ]
  },
  {
   "cell_type": "code",
   "execution_count": 69,
   "metadata": {},
   "outputs": [
    {
     "data": {
      "image/png": "[encoded data removed]",
      "text/plain": [
       "<matplotlib.figure.Figure at 0x7fe1c833b630>"
      ]
     },
     "metadata": {},
     "output_type": "display_data"
    }
   ],
   "source": [
    "import matplotlib.pylab as plt\n",
    "\n",
    "lists = sorted(cpu_utilization_sum.items()) # sorted by key, return a list of tuples\n",
    "\n",
    "x, y = zip(*lists) # unpack a list of pairs into two tuples\n",
    "cpu = [z/1310 for z in y]\n",
    "\n",
    "plt.plot(x, cpu, label=\"cpu util\")\n",
    "lists = sorted(mem_utilization_sum.items()) # sorted by key, return a list of tuples\n",
    "\n",
    "x, y = zip(*lists) # unpack a list of pairs into two tuples\n",
    "mem = [z/1310 for z in y]\n",
    "\n",
    "plt.plot(x, mem, label=\"mem util\")\n",
    "\n",
    "lists = sorted(disk_utilization_sum.items()) # sorted by key, return a list of tuples\n",
    "\n",
    "x, y = zip(*lists) # unpack a list of pairs into two tuples\n",
    "hdd = [z/1310 for z in y]\n",
    "plt.plot(x, hdd, label=\"hdd util\")\n",
    "plt.legend()\n",
    "plt.show()"
   ]
  },
  {
   "cell_type": "code",
   "execution_count": null,
   "metadata": {
    "collapsed": true
   },
   "outputs": [],
   "source": []
  }
 ],
 "metadata": {
  "kernelspec": {
   "display_name": "Python 3",
   "language": "python",
   "name": "python3"
  },
  "language_info": {
   "codemirror_mode": {
    "name": "ipython",
    "version": 3
   },
   "file_extension": ".py",
   "mimetype": "text/x-python",
   "name": "python",
   "nbconvert_exporter": "python",
   "pygments_lexer": "ipython3",
   "version": "3.6.1"
  }
 },
 "nbformat": 4,
 "nbformat_minor": 2
}
