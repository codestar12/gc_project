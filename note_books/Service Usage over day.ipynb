{
 "cells": [
  {
   "cell_type": "markdown",
   "metadata": {},
   "source": [
    "# We would like to confirm that more of their resources are dedicated to their customer facing products as the day goes on\n",
    "\n",
    "### To do this we will have to compare total resource use, by total resources dedicated to their services\n",
    "\n",
    "It is important for us to take care when adding these that we calculate resources correctly. We will want to look at something like this for every timestamp, for every server, for ever service instance, calculate total resource Util."
   ]
  },
  {
   "cell_type": "code",
   "execution_count": 5,
   "metadata": {
    "collapsed": true
   },
   "outputs": [],
   "source": [
    "import pandas as pd\n",
    "import numpy as np"
   ]
  },
  {
   "cell_type": "code",
   "execution_count": 6,
   "metadata": {
    "collapsed": true
   },
   "outputs": [],
   "source": [
    "service_containers = pd.read_csv(\"/home/codyblakeney/private/personal_repo/gc_project/data/container_event.csv\")"
   ]
  },
  {
   "cell_type": "code",
   "execution_count": 7,
   "metadata": {
    "collapsed": true
   },
   "outputs": [],
   "source": [
    "service_instances = pd.read_csv(\"/home/codyblakeney/private/personal_repo/gc_project/data/container_usage.csv\")"
   ]
  },
  {
   "cell_type": "code",
   "execution_count": 19,
   "metadata": {},
   "outputs": [],
   "source": [
    "ids_at_39600 = np.array(service_instances[service_instances.ts == 39600].instance_id)"
   ]
  },
  {
   "cell_type": "code",
   "execution_count": 26,
   "metadata": {},
   "outputs": [
    {
     "data": {
      "text/html": [
       "<div>\n",
       "<style>\n",
       "    .dataframe thead tr:only-child th {\n",
       "        text-align: right;\n",
       "    }\n",
       "\n",
       "    .dataframe thead th {\n",
       "        text-align: left;\n",
       "    }\n",
       "\n",
       "    .dataframe tbody tr th {\n",
       "        vertical-align: top;\n",
       "    }\n",
       "</style>\n",
       "<table border=\"1\" class=\"dataframe\">\n",
       "  <thead>\n",
       "    <tr style=\"text-align: right;\">\n",
       "      <th></th>\n",
       "      <th>ts</th>\n",
       "      <th>event</th>\n",
       "      <th>instance_id</th>\n",
       "      <th>machine_id</th>\n",
       "      <th>plan_cpu</th>\n",
       "      <th>plan_mem</th>\n",
       "      <th>plan_disk</th>\n",
       "      <th>cpuset</th>\n",
       "      <th>Unnamed: 8</th>\n",
       "    </tr>\n",
       "  </thead>\n",
       "  <tbody>\n",
       "    <tr>\n",
       "      <th>1428</th>\n",
       "      <td>0</td>\n",
       "      <td>Create</td>\n",
       "      <td>117</td>\n",
       "      <td>823</td>\n",
       "      <td>4</td>\n",
       "      <td>0.042409</td>\n",
       "      <td>0.034085</td>\n",
       "      <td>40|41|42|43</td>\n",
       "      <td>NaN</td>\n",
       "    </tr>\n",
       "  </tbody>\n",
       "</table>\n",
       "</div>"
      ],
      "text/plain": [
       "      ts   event  instance_id  machine_id  plan_cpu  plan_mem  plan_disk  \\\n",
       "1428   0  Create          117         823         4  0.042409   0.034085   \n",
       "\n",
       "           cpuset  Unnamed: 8  \n",
       "1428  40|41|42|43         NaN  "
      ]
     },
     "execution_count": 26,
     "metadata": {},
     "output_type": "execute_result"
    }
   ],
   "source": [
    "service_containers[service_containers.instance_id == ids_at_39600[0]]"
   ]
  },
  {
   "cell_type": "code",
   "execution_count": null,
   "metadata": {
    "collapsed": true
   },
   "outputs": [],
   "source": []
  }
 ],
 "metadata": {
  "kernelspec": {
   "display_name": "Python 3",
   "language": "python",
   "name": "python3"
  },
  "language_info": {
   "codemirror_mode": {
    "name": "ipython",
    "version": 3
   },
   "file_extension": ".py",
   "mimetype": "text/x-python",
   "name": "python",
   "nbconvert_exporter": "python",
   "pygments_lexer": "ipython3",
   "version": "3.6.1"
  }
 },
 "nbformat": 4,
 "nbformat_minor": 2
}
