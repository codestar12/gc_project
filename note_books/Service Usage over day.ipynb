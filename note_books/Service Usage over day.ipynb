{
 "cells": [
  {
   "cell_type": "markdown",
   "metadata": {},
   "source": [
    "# We would like to confirm that more of their resources are dedicated to their customer facing products as the day goes on\n",
    "\n",
    "### To do this we will have to compare total resource use, by total resources dedicated to their services\n",
    "\n",
    "It is important for us to take care when adding these that we calculate resources correctly. We will want to look at something like this for every timestamp, for every server, for ever service instance, calculate total resource Util."
   ]
  },
  {
   "cell_type": "code",
   "execution_count": 1,
   "metadata": {
    "collapsed": true
   },
   "outputs": [],
   "source": [
    "import pandas as pd\n",
    "import numpy as np"
   ]
  },
  {
   "cell_type": "code",
   "execution_count": 2,
   "metadata": {
    "collapsed": true
   },
   "outputs": [],
   "source": [
    "service_containers = pd.read_csv(\"/home/codyblakeney/private/personal_repo/gc_project/data/container_event.csv\")"
   ]
  },
  {
   "cell_type": "code",
   "execution_count": 3,
   "metadata": {
    "collapsed": true
   },
   "outputs": [],
   "source": [
    "service_instances = pd.read_csv(\"/home/codyblakeney/private/personal_repo/gc_project/data/container_usage.csv\")"
   ]
  },
  {
   "cell_type": "code",
   "execution_count": 4,
   "metadata": {
    "collapsed": true
   },
   "outputs": [],
   "source": [
    "ids_at_39600 = np.array(service_instances[service_instances.ts == 39600].instance_id)"
   ]
  },
  {
   "cell_type": "code",
   "execution_count": 5,
   "metadata": {},
   "outputs": [
    {
     "data": {
      "text/html": [
       "<div>\n",
       "<style>\n",
       "    .dataframe thead tr:only-child th {\n",
       "        text-align: right;\n",
       "    }\n",
       "\n",
       "    .dataframe thead th {\n",
       "        text-align: left;\n",
       "    }\n",
       "\n",
       "    .dataframe tbody tr th {\n",
       "        vertical-align: top;\n",
       "    }\n",
       "</style>\n",
       "<table border=\"1\" class=\"dataframe\">\n",
       "  <thead>\n",
       "    <tr style=\"text-align: right;\">\n",
       "      <th></th>\n",
       "      <th>ts</th>\n",
       "      <th>event</th>\n",
       "      <th>instance_id</th>\n",
       "      <th>machine_id</th>\n",
       "      <th>plan_cpu</th>\n",
       "      <th>plan_mem</th>\n",
       "      <th>plan_disk</th>\n",
       "      <th>cpuset</th>\n",
       "      <th>Unnamed: 8</th>\n",
       "    </tr>\n",
       "  </thead>\n",
       "  <tbody>\n",
       "    <tr>\n",
       "      <th>1428</th>\n",
       "      <td>0</td>\n",
       "      <td>Create</td>\n",
       "      <td>117</td>\n",
       "      <td>823</td>\n",
       "      <td>4</td>\n",
       "      <td>0.042409</td>\n",
       "      <td>0.034085</td>\n",
       "      <td>40|41|42|43</td>\n",
       "      <td>NaN</td>\n",
       "    </tr>\n",
       "  </tbody>\n",
       "</table>\n",
       "</div>"
      ],
      "text/plain": [
       "      ts   event  instance_id  machine_id  plan_cpu  plan_mem  plan_disk  \\\n",
       "1428   0  Create          117         823         4  0.042409   0.034085   \n",
       "\n",
       "           cpuset  Unnamed: 8  \n",
       "1428  40|41|42|43         NaN  "
      ]
     },
     "execution_count": 5,
     "metadata": {},
     "output_type": "execute_result"
    }
   ],
   "source": [
    "service_containers[service_containers.instance_id == ids_at_39600[0]]"
   ]
  },
  {
   "cell_type": "code",
   "execution_count": 6,
   "metadata": {},
   "outputs": [
    {
     "data": {
      "text/html": [
       "<div>\n",
       "<style>\n",
       "    .dataframe thead tr:only-child th {\n",
       "        text-align: right;\n",
       "    }\n",
       "\n",
       "    .dataframe thead th {\n",
       "        text-align: left;\n",
       "    }\n",
       "\n",
       "    .dataframe tbody tr th {\n",
       "        vertical-align: top;\n",
       "    }\n",
       "</style>\n",
       "<table border=\"1\" class=\"dataframe\">\n",
       "  <thead>\n",
       "    <tr style=\"text-align: right;\">\n",
       "      <th></th>\n",
       "      <th>ts</th>\n",
       "      <th>instance_id</th>\n",
       "      <th>cpu_util</th>\n",
       "      <th>mem_util</th>\n",
       "      <th>disk_util</th>\n",
       "      <th>load1</th>\n",
       "      <th>load5</th>\n",
       "      <th>load15</th>\n",
       "      <th>avg_cpi</th>\n",
       "      <th>avg_mpki</th>\n",
       "      <th>max_cpi</th>\n",
       "      <th>max_mpki</th>\n",
       "    </tr>\n",
       "  </thead>\n",
       "  <tbody>\n",
       "    <tr>\n",
       "      <th>11</th>\n",
       "      <td>39600</td>\n",
       "      <td>117</td>\n",
       "      <td>3.66</td>\n",
       "      <td>38.299999</td>\n",
       "      <td>12.8</td>\n",
       "      <td>0.14</td>\n",
       "      <td>0.18</td>\n",
       "      <td>0.2</td>\n",
       "      <td>0.164531</td>\n",
       "      <td>0.227815</td>\n",
       "      <td>2.046043</td>\n",
       "      <td>3.524049</td>\n",
       "    </tr>\n",
       "  </tbody>\n",
       "</table>\n",
       "</div>"
      ],
      "text/plain": [
       "       ts  instance_id  cpu_util   mem_util  disk_util  load1  load5  load15  \\\n",
       "11  39600          117      3.66  38.299999       12.8   0.14   0.18     0.2   \n",
       "\n",
       "     avg_cpi  avg_mpki   max_cpi  max_mpki  \n",
       "11  0.164531  0.227815  2.046043  3.524049  "
      ]
     },
     "execution_count": 6,
     "metadata": {},
     "output_type": "execute_result"
    }
   ],
   "source": [
    "service_instances[np.logical_and(service_instances.instance_id == ids_at_39600[0] , service_instances.ts==39600)]"
   ]
  },
  {
   "cell_type": "markdown",
   "metadata": {},
   "source": [
    "https://serverfault.com/questions/667078/high-cpu-utilization-but-low-load-average\n",
    "\n",
    "### Miss match of CPU Util and Linux Load could mean VMs competing for resources"
   ]
  },
  {
   "cell_type": "code",
   "execution_count": 7,
   "metadata": {},
   "outputs": [
    {
     "data": {
      "text/html": [
       "\n",
       "    <div class=\"bk-root\">\n",
       "        <a href=\"http://bokeh.pydata.org\" target=\"_blank\" class=\"bk-logo bk-logo-small bk-logo-notebook\"></a>\n",
       "        <span id=\"90ec94b2-ebab-41ab-83ec-14dd4ed48ae6\">Loading BokehJS ...</span>\n",
       "    </div>"
      ]
     },
     "metadata": {},
     "output_type": "display_data"
    },
    {
     "data": {
      "application/javascript": [
       "\n",
       "(function(global) {\n",
       "  function now() {\n",
       "    return new Date();\n",
       "  }\n",
       "\n",
       "  var force = true;\n",
       "\n",
       "  if (typeof (window._bokeh_onload_callbacks) === \"undefined\" || force === true) {\n",
       "    window._bokeh_onload_callbacks = [];\n",
       "    window._bokeh_is_loading = undefined;\n",
       "  }\n",
       "\n",
       "\n",
       "  \n",
       "  if (typeof (window._bokeh_timeout) === \"undefined\" || force === true) {\n",
       "    window._bokeh_timeout = Date.now() + 5000;\n",
       "    window._bokeh_failed_load = false;\n",
       "  }\n",
       "\n",
       "  var NB_LOAD_WARNING = {'data': {'text/html':\n",
       "     \"<div style='background-color: #fdd'>\\n\"+\n",
       "     \"<p>\\n\"+\n",
       "     \"BokehJS does not appear to have successfully loaded. If loading BokehJS from CDN, this \\n\"+\n",
       "     \"may be due to a slow or bad network connection. Possible fixes:\\n\"+\n",
       "     \"</p>\\n\"+\n",
       "     \"<ul>\\n\"+\n",
       "     \"<li>re-rerun `output_notebook()` to attempt to load from CDN again, or</li>\\n\"+\n",
       "     \"<li>use INLINE resources instead, as so:</li>\\n\"+\n",
       "     \"</ul>\\n\"+\n",
       "     \"<code>\\n\"+\n",
       "     \"from bokeh.resources import INLINE\\n\"+\n",
       "     \"output_notebook(resources=INLINE)\\n\"+\n",
       "     \"</code>\\n\"+\n",
       "     \"</div>\"}};\n",
       "\n",
       "  function display_loaded() {\n",
       "    if (window.Bokeh !== undefined) {\n",
       "      var el = document.getElementById(\"90ec94b2-ebab-41ab-83ec-14dd4ed48ae6\");\n",
       "      el.textContent = \"BokehJS \" + Bokeh.version + \" successfully loaded.\";\n",
       "    } else if (Date.now() < window._bokeh_timeout) {\n",
       "      setTimeout(display_loaded, 100)\n",
       "    }\n",
       "  }\n",
       "\n",
       "  function run_callbacks() {\n",
       "    window._bokeh_onload_callbacks.forEach(function(callback) { callback() });\n",
       "    delete window._bokeh_onload_callbacks\n",
       "    console.info(\"Bokeh: all callbacks have finished\");\n",
       "  }\n",
       "\n",
       "  function load_libs(js_urls, callback) {\n",
       "    window._bokeh_onload_callbacks.push(callback);\n",
       "    if (window._bokeh_is_loading > 0) {\n",
       "      console.log(\"Bokeh: BokehJS is being loaded, scheduling callback at\", now());\n",
       "      return null;\n",
       "    }\n",
       "    if (js_urls == null || js_urls.length === 0) {\n",
       "      run_callbacks();\n",
       "      return null;\n",
       "    }\n",
       "    console.log(\"Bokeh: BokehJS not loaded, scheduling load and callback at\", now());\n",
       "    window._bokeh_is_loading = js_urls.length;\n",
       "    for (var i = 0; i < js_urls.length; i++) {\n",
       "      var url = js_urls[i];\n",
       "      var s = document.createElement('script');\n",
       "      s.src = url;\n",
       "      s.async = false;\n",
       "      s.onreadystatechange = s.onload = function() {\n",
       "        window._bokeh_is_loading--;\n",
       "        if (window._bokeh_is_loading === 0) {\n",
       "          console.log(\"Bokeh: all BokehJS libraries loaded\");\n",
       "          run_callbacks()\n",
       "        }\n",
       "      };\n",
       "      s.onerror = function() {\n",
       "        console.warn(\"failed to load library \" + url);\n",
       "      };\n",
       "      console.log(\"Bokeh: injecting script tag for BokehJS library: \", url);\n",
       "      document.getElementsByTagName(\"head\")[0].appendChild(s);\n",
       "    }\n",
       "  };var element = document.getElementById(\"90ec94b2-ebab-41ab-83ec-14dd4ed48ae6\");\n",
       "  if (element == null) {\n",
       "    console.log(\"Bokeh: ERROR: autoload.js configured with elementid '90ec94b2-ebab-41ab-83ec-14dd4ed48ae6' but no matching script tag was found. \")\n",
       "    return false;\n",
       "  }\n",
       "\n",
       "  var js_urls = [\"https://cdn.pydata.org/bokeh/release/bokeh-0.12.5.min.js\", \"https://cdn.pydata.org/bokeh/release/bokeh-widgets-0.12.5.min.js\"];\n",
       "\n",
       "  var inline_js = [\n",
       "    function(Bokeh) {\n",
       "      Bokeh.set_log_level(\"info\");\n",
       "    },\n",
       "    \n",
       "    function(Bokeh) {\n",
       "      \n",
       "    },\n",
       "    \n",
       "    function(Bokeh) {\n",
       "      \n",
       "      document.getElementById(\"90ec94b2-ebab-41ab-83ec-14dd4ed48ae6\").textContent = \"BokehJS is loading...\";\n",
       "    },\n",
       "    function(Bokeh) {\n",
       "      console.log(\"Bokeh: injecting CSS: https://cdn.pydata.org/bokeh/release/bokeh-0.12.5.min.css\");\n",
       "      Bokeh.embed.inject_css(\"https://cdn.pydata.org/bokeh/release/bokeh-0.12.5.min.css\");\n",
       "      console.log(\"Bokeh: injecting CSS: https://cdn.pydata.org/bokeh/release/bokeh-widgets-0.12.5.min.css\");\n",
       "      Bokeh.embed.inject_css(\"https://cdn.pydata.org/bokeh/release/bokeh-widgets-0.12.5.min.css\");\n",
       "    }\n",
       "  ];\n",
       "\n",
       "  function run_inline_js() {\n",
       "    \n",
       "    if ((window.Bokeh !== undefined) || (force === true)) {\n",
       "      for (var i = 0; i < inline_js.length; i++) {\n",
       "        inline_js[i](window.Bokeh);\n",
       "      }if (force === true) {\n",
       "        display_loaded();\n",
       "      }} else if (Date.now() < window._bokeh_timeout) {\n",
       "      setTimeout(run_inline_js, 100);\n",
       "    } else if (!window._bokeh_failed_load) {\n",
       "      console.log(\"Bokeh: BokehJS failed to load within specified timeout.\");\n",
       "      window._bokeh_failed_load = true;\n",
       "    } else if (force !== true) {\n",
       "      var cell = $(document.getElementById(\"90ec94b2-ebab-41ab-83ec-14dd4ed48ae6\")).parents('.cell').data().cell;\n",
       "      cell.output_area.append_execute_result(NB_LOAD_WARNING)\n",
       "    }\n",
       "\n",
       "  }\n",
       "\n",
       "  if (window._bokeh_is_loading === 0) {\n",
       "    console.log(\"Bokeh: BokehJS loaded, going straight to plotting\");\n",
       "    run_inline_js();\n",
       "  } else {\n",
       "    load_libs(js_urls, function() {\n",
       "      console.log(\"Bokeh: BokehJS plotting callback run at\", now());\n",
       "      run_inline_js();\n",
       "    });\n",
       "  }\n",
       "}(this));"
      ]
     },
     "metadata": {},
     "output_type": "display_data"
    }
   ],
   "source": [
    "from bokeh.plotting import figure, show\n",
    "from bokeh.charts import Histogram\n",
    "from bokeh.io import output_notebook\n",
    "output_notebook()"
   ]
  },
  {
   "cell_type": "code",
   "execution_count": 8,
   "metadata": {},
   "outputs": [
    {
     "data": {
      "text/html": [
       "\n",
       "\n",
       "    <div class=\"bk-root\">\n",
       "        <div class=\"bk-plotdiv\" id=\"d916bf82-9029-46e4-a16f-c818123d8df0\"></div>\n",
       "    </div>\n",
       "<script type=\"text/javascript\">\n",
       "  \n",
       "  (function(global) {\n",
       "    function now() {\n",
       "      return new Date();\n",
       "    }\n",
       "  \n",
       "    var force = false;\n",
       "  \n",
       "    if (typeof (window._bokeh_onload_callbacks) === \"undefined\" || force === true) {\n",
       "      window._bokeh_onload_callbacks = [];\n",
       "      window._bokeh_is_loading = undefined;\n",
       "    }\n",
       "  \n",
       "  \n",
       "    \n",
       "    if (typeof (window._bokeh_timeout) === \"undefined\" || force === true) {\n",
       "      window._bokeh_timeout = Date.now() + 0;\n",
       "      window._bokeh_failed_load = false;\n",
       "    }\n",
       "  \n",
       "    var NB_LOAD_WARNING = {'data': {'text/html':\n",
       "       \"<div style='background-color: #fdd'>\\n\"+\n",
       "       \"<p>\\n\"+\n",
       "       \"BokehJS does not appear to have successfully loaded. If loading BokehJS from CDN, this \\n\"+\n",
       "       \"may be due to a slow or bad network connection. Possible fixes:\\n\"+\n",
       "       \"</p>\\n\"+\n",
       "       \"<ul>\\n\"+\n",
       "       \"<li>re-rerun `output_notebook()` to attempt to load from CDN again, or</li>\\n\"+\n",
       "       \"<li>use INLINE resources instead, as so:</li>\\n\"+\n",
       "       \"</ul>\\n\"+\n",
       "       \"<code>\\n\"+\n",
       "       \"from bokeh.resources import INLINE\\n\"+\n",
       "       \"output_notebook(resources=INLINE)\\n\"+\n",
       "       \"</code>\\n\"+\n",
       "       \"</div>\"}};\n",
       "  \n",
       "    function display_loaded() {\n",
       "      if (window.Bokeh !== undefined) {\n",
       "        var el = document.getElementById(\"d916bf82-9029-46e4-a16f-c818123d8df0\");\n",
       "        el.textContent = \"BokehJS \" + Bokeh.version + \" successfully loaded.\";\n",
       "      } else if (Date.now() < window._bokeh_timeout) {\n",
       "        setTimeout(display_loaded, 100)\n",
       "      }\n",
       "    }\n",
       "  \n",
       "    function run_callbacks() {\n",
       "      window._bokeh_onload_callbacks.forEach(function(callback) { callback() });\n",
       "      delete window._bokeh_onload_callbacks\n",
       "      console.info(\"Bokeh: all callbacks have finished\");\n",
       "    }\n",
       "  \n",
       "    function load_libs(js_urls, callback) {\n",
       "      window._bokeh_onload_callbacks.push(callback);\n",
       "      if (window._bokeh_is_loading > 0) {\n",
       "        console.log(\"Bokeh: BokehJS is being loaded, scheduling callback at\", now());\n",
       "        return null;\n",
       "      }\n",
       "      if (js_urls == null || js_urls.length === 0) {\n",
       "        run_callbacks();\n",
       "        return null;\n",
       "      }\n",
       "      console.log(\"Bokeh: BokehJS not loaded, scheduling load and callback at\", now());\n",
       "      window._bokeh_is_loading = js_urls.length;\n",
       "      for (var i = 0; i < js_urls.length; i++) {\n",
       "        var url = js_urls[i];\n",
       "        var s = document.createElement('script');\n",
       "        s.src = url;\n",
       "        s.async = false;\n",
       "        s.onreadystatechange = s.onload = function() {\n",
       "          window._bokeh_is_loading--;\n",
       "          if (window._bokeh_is_loading === 0) {\n",
       "            console.log(\"Bokeh: all BokehJS libraries loaded\");\n",
       "            run_callbacks()\n",
       "          }\n",
       "        };\n",
       "        s.onerror = function() {\n",
       "          console.warn(\"failed to load library \" + url);\n",
       "        };\n",
       "        console.log(\"Bokeh: injecting script tag for BokehJS library: \", url);\n",
       "        document.getElementsByTagName(\"head\")[0].appendChild(s);\n",
       "      }\n",
       "    };var element = document.getElementById(\"d916bf82-9029-46e4-a16f-c818123d8df0\");\n",
       "    if (element == null) {\n",
       "      console.log(\"Bokeh: ERROR: autoload.js configured with elementid 'd916bf82-9029-46e4-a16f-c818123d8df0' but no matching script tag was found. \")\n",
       "      return false;\n",
       "    }\n",
       "  \n",
       "    var js_urls = [];\n",
       "  \n",
       "    var inline_js = [\n",
       "      function(Bokeh) {\n",
       "        (function() {\n",
       "          var fn = function() {\n",
       "            var docs_json = {\"22b95dcf-fc4a-4aca-8f44-ab64eda561ba\":{\"roots\":{\"references\":[{\"attributes\":{\"callback\":null,\"column_names\":[\"x\",\"y\",\"width\",\"height\",\"color\",\"fill_alpha\",\"line_color\",\"line_alpha\",\"label\"],\"data\":{\"chart_index\":[\"(27.424000, 30.852000]\"],\"color\":[\"#f22c40\"],\"fill_alpha\":[0.8],\"height\":[11.0],\"label\":[\"(27.424000, 30.852000]\"],\"line_alpha\":[1.0],\"line_color\":[\"black\"],\"width\":[3.428000030517161],\"x\":[\"29.137999999999998\"],\"y\":[5.5]}},\"id\":\"0b6be476-6db4-42ff-9f1b-e45fa9032fed\",\"type\":\"ColumnDataSource\"},{\"attributes\":{\"callback\":null,\"end\":10752.5},\"id\":\"4ffb780c-0187-41b3-8b22-5baf8c38dbfb\",\"type\":\"Range1d\"},{\"attributes\":{\"callback\":null,\"column_names\":[\"x\",\"y\",\"width\",\"height\",\"color\",\"fill_alpha\",\"line_color\",\"line_alpha\",\"label\"],\"data\":{\"chart_index\":[\"(47.992000, 51.420000]\"],\"color\":[\"#f22c40\"],\"fill_alpha\":[0.8],\"height\":[2.0],\"label\":[\"(47.992000, 51.420000]\"],\"line_alpha\":[1.0],\"line_color\":[\"black\"],\"width\":[3.428000030517161],\"x\":[\"49.706\"],\"y\":[1.0]}},\"id\":\"f3fb5240-9e7b-4a84-8492-ae432a635eeb\",\"type\":\"ColumnDataSource\"},{\"attributes\":{\"data_source\":{\"id\":\"207280d1-4108-46f5-a44c-34bdca595d17\",\"type\":\"ColumnDataSource\"},\"glyph\":{\"id\":\"d0bfdeb2-fff6-462d-9cce-52b82bd83bd5\",\"type\":\"Rect\"},\"hover_glyph\":null,\"muted_glyph\":null},\"id\":\"08f227c0-dd2a-44eb-b5a3-463a91856ca8\",\"type\":\"GlyphRenderer\"},{\"attributes\":{\"fill_alpha\":{\"field\":\"fill_alpha\"},\"fill_color\":{\"field\":\"color\"},\"height\":{\"field\":\"height\",\"units\":\"data\"},\"line_color\":{\"field\":\"line_color\"},\"width\":{\"field\":\"width\",\"units\":\"data\"},\"x\":{\"field\":\"x\"},\"y\":{\"field\":\"y\"}},\"id\":\"92e5e54c-ed2f-40e3-944e-5e518cc8a979\",\"type\":\"Rect\"},{\"attributes\":{\"data_source\":{\"id\":\"0b6be476-6db4-42ff-9f1b-e45fa9032fed\",\"type\":\"ColumnDataSource\"},\"glyph\":{\"id\":\"92e5e54c-ed2f-40e3-944e-5e518cc8a979\",\"type\":\"Rect\"},\"hover_glyph\":null,\"muted_glyph\":null},\"id\":\"bcc7d7c5-b89b-4356-8a12-538664f0900e\",\"type\":\"GlyphRenderer\"},{\"attributes\":{\"callback\":null,\"column_names\":[\"x\",\"y\",\"width\",\"height\",\"color\",\"fill_alpha\",\"line_color\",\"line_alpha\",\"label\"],\"data\":{\"chart_index\":[\"(30.852000, 34.280000]\"],\"color\":[\"#f22c40\"],\"fill_alpha\":[0.8],\"height\":[5.0],\"label\":[\"(30.852000, 34.280000]\"],\"line_alpha\":[1.0],\"line_color\":[\"black\"],\"width\":[3.4280000305171647],\"x\":[\"32.566\"],\"y\":[2.5]}},\"id\":\"20b592c8-e3a5-4812-aaf1-2790ddb7a1db\",\"type\":\"ColumnDataSource\"},{\"attributes\":{\"fill_alpha\":{\"field\":\"fill_alpha\"},\"fill_color\":{\"field\":\"color\"},\"height\":{\"field\":\"height\",\"units\":\"data\"},\"line_color\":{\"field\":\"line_color\"},\"width\":{\"field\":\"width\",\"units\":\"data\"},\"x\":{\"field\":\"x\"},\"y\":{\"field\":\"y\"}},\"id\":\"0fa97c15-765a-483d-8434-5ebef48b4438\",\"type\":\"Rect\"},{\"attributes\":{\"data_source\":{\"id\":\"20b592c8-e3a5-4812-aaf1-2790ddb7a1db\",\"type\":\"ColumnDataSource\"},\"glyph\":{\"id\":\"0fa97c15-765a-483d-8434-5ebef48b4438\",\"type\":\"Rect\"},\"hover_glyph\":null,\"muted_glyph\":null},\"id\":\"f3aeb7d0-fe69-46bf-b2bd-a69848cb142c\",\"type\":\"GlyphRenderer\"},{\"attributes\":{\"callback\":null,\"column_names\":[\"x\",\"y\",\"width\",\"height\",\"color\",\"fill_alpha\",\"line_color\",\"line_alpha\",\"label\"],\"data\":{\"chart_index\":[\"(34.280000, 37.708000]\"],\"color\":[\"#f22c40\"],\"fill_alpha\":[0.8],\"height\":[4.0],\"label\":[\"(34.280000, 37.708000]\"],\"line_alpha\":[1.0],\"line_color\":[\"black\"],\"width\":[3.428000030517161],\"x\":[\"35.994\"],\"y\":[2.0]}},\"id\":\"bb073fd2-264b-4975-9378-79fe71ddbb87\",\"type\":\"ColumnDataSource\"},{\"attributes\":{\"fill_alpha\":{\"field\":\"fill_alpha\"},\"fill_color\":{\"field\":\"color\"},\"height\":{\"field\":\"height\",\"units\":\"data\"},\"line_color\":{\"field\":\"line_color\"},\"width\":{\"field\":\"width\",\"units\":\"data\"},\"x\":{\"field\":\"x\"},\"y\":{\"field\":\"y\"}},\"id\":\"38132a67-9830-4c26-a48e-449fe5c6ddfa\",\"type\":\"Rect\"},{\"attributes\":{},\"id\":\"1c101523-ad2e-42a9-b704-6d194454b429\",\"type\":\"BasicTicker\"},{\"attributes\":{},\"id\":\"afc79991-41e5-4969-b4ae-3e9fadbdcea9\",\"type\":\"BasicTickFormatter\"},{\"attributes\":{\"data_source\":{\"id\":\"bb073fd2-264b-4975-9378-79fe71ddbb87\",\"type\":\"ColumnDataSource\"},\"glyph\":{\"id\":\"38132a67-9830-4c26-a48e-449fe5c6ddfa\",\"type\":\"Rect\"},\"hover_glyph\":null,\"muted_glyph\":null},\"id\":\"f4130333-1785-460d-a201-db506e03c6d4\",\"type\":\"GlyphRenderer\"},{\"attributes\":{\"callback\":null,\"column_names\":[\"x\",\"y\",\"width\",\"height\",\"color\",\"fill_alpha\",\"line_color\",\"line_alpha\",\"label\"],\"data\":{\"chart_index\":[\"(37.708000, 41.136000]\"],\"color\":[\"#f22c40\"],\"fill_alpha\":[0.8],\"height\":[4.0],\"label\":[\"(37.708000, 41.136000]\"],\"line_alpha\":[1.0],\"line_color\":[\"black\"],\"width\":[3.428000030517161],\"x\":[\"39.422\"],\"y\":[2.0]}},\"id\":\"a702288f-c513-4468-9a92-45d078a7afa0\",\"type\":\"ColumnDataSource\"},{\"attributes\":{\"fill_alpha\":{\"field\":\"fill_alpha\"},\"fill_color\":{\"field\":\"color\"},\"height\":{\"field\":\"height\",\"units\":\"data\"},\"line_color\":{\"field\":\"line_color\"},\"width\":{\"field\":\"width\",\"units\":\"data\"},\"x\":{\"field\":\"x\"},\"y\":{\"field\":\"y\"}},\"id\":\"e02a1154-26d2-421f-934d-1089182a901c\",\"type\":\"Rect\"},{\"attributes\":{\"dimension\":1,\"plot\":{\"id\":\"2cf3c512-b863-44f2-9303-6218506f3ad6\",\"subtype\":\"Chart\",\"type\":\"Plot\"},\"ticker\":{\"id\":\"fc594a11-3847-41ef-8c96-6fc22244f88f\",\"type\":\"BasicTicker\"}},\"id\":\"26a05cad-cd87-4cef-aff5-bf8f61debd48\",\"type\":\"Grid\"},{\"attributes\":{},\"id\":\"fc594a11-3847-41ef-8c96-6fc22244f88f\",\"type\":\"BasicTicker\"},{\"attributes\":{\"data_source\":{\"id\":\"a702288f-c513-4468-9a92-45d078a7afa0\",\"type\":\"ColumnDataSource\"},\"glyph\":{\"id\":\"e02a1154-26d2-421f-934d-1089182a901c\",\"type\":\"Rect\"},\"hover_glyph\":null,\"muted_glyph\":null},\"id\":\"a6705ac7-c8ea-41ac-a2da-63697f71def7\",\"type\":\"GlyphRenderer\"},{\"attributes\":{},\"id\":\"fa081a90-4fc3-42f1-91e1-b4ecd47e3d57\",\"type\":\"BasicTickFormatter\"},{\"attributes\":{\"callback\":null,\"column_names\":[\"x\",\"y\",\"width\",\"height\",\"color\",\"fill_alpha\",\"line_color\",\"line_alpha\",\"label\"],\"data\":{\"chart_index\":[\"(41.136000, 44.564000]\"],\"color\":[\"#f22c40\"],\"fill_alpha\":[0.8],\"height\":[3.0],\"label\":[\"(41.136000, 44.564000]\"],\"line_alpha\":[1.0],\"line_color\":[\"black\"],\"width\":[3.428000030517161],\"x\":[\"42.85\"],\"y\":[1.5]}},\"id\":\"b038d030-423b-4bbd-b563-115f26648e15\",\"type\":\"ColumnDataSource\"},{\"attributes\":{\"fill_alpha\":{\"field\":\"fill_alpha\"},\"fill_color\":{\"field\":\"color\"},\"height\":{\"field\":\"height\",\"units\":\"data\"},\"line_color\":{\"field\":\"line_color\"},\"width\":{\"field\":\"width\",\"units\":\"data\"},\"x\":{\"field\":\"x\"},\"y\":{\"field\":\"y\"}},\"id\":\"48f555e0-1bc7-4fc0-a67d-97128f6af8e8\",\"type\":\"Rect\"},{\"attributes\":{\"data_source\":{\"id\":\"b038d030-423b-4bbd-b563-115f26648e15\",\"type\":\"ColumnDataSource\"},\"glyph\":{\"id\":\"48f555e0-1bc7-4fc0-a67d-97128f6af8e8\",\"type\":\"Rect\"},\"hover_glyph\":null,\"muted_glyph\":null},\"id\":\"2aad28de-5de9-4cf7-aae4-980f3cab3936\",\"type\":\"GlyphRenderer\"},{\"attributes\":{\"callback\":null,\"column_names\":[\"x\",\"y\",\"width\",\"height\",\"color\",\"fill_alpha\",\"line_color\",\"line_alpha\",\"label\"],\"data\":{\"chart_index\":[\"(44.564000, 47.992000]\"],\"color\":[\"#f22c40\"],\"fill_alpha\":[0.8],\"height\":[4.0],\"label\":[\"(44.564000, 47.992000]\"],\"line_alpha\":[1.0],\"line_color\":[\"black\"],\"width\":[3.428000030517161],\"x\":[\"46.278\"],\"y\":[2.0]}},\"id\":\"c8ce8237-12c8-4c32-b54f-30a39b25fc55\",\"type\":\"ColumnDataSource\"},{\"attributes\":{\"fill_alpha\":{\"field\":\"fill_alpha\"},\"fill_color\":{\"field\":\"color\"},\"height\":{\"field\":\"height\",\"units\":\"data\"},\"line_color\":{\"field\":\"line_color\"},\"width\":{\"field\":\"width\",\"units\":\"data\"},\"x\":{\"field\":\"x\"},\"y\":{\"field\":\"y\"}},\"id\":\"0e3a2528-8bbf-41e7-b3a1-317db188c1f0\",\"type\":\"Rect\"},{\"attributes\":{},\"id\":\"3f086df7-b3e6-4ca9-8a1b-ff4d99e98138\",\"type\":\"ToolEvents\"},{\"attributes\":{\"data_source\":{\"id\":\"f3fb5240-9e7b-4a84-8492-ae432a635eeb\",\"type\":\"ColumnDataSource\"},\"glyph\":{\"id\":\"6cd14997-a7ec-469e-983d-a5f8dd698e32\",\"type\":\"Rect\"},\"hover_glyph\":null,\"muted_glyph\":null},\"id\":\"ff9ef776-1984-400a-9bc4-d7092e5099a5\",\"type\":\"GlyphRenderer\"},{\"attributes\":{\"below\":[{\"id\":\"6c2ff9f6-3cdf-4ad4-baa3-d1358cef0cc6\",\"type\":\"LinearAxis\"}],\"css_classes\":null,\"left\":[{\"id\":\"581df7be-f89f-4698-94e4-abfc7df67b99\",\"type\":\"LinearAxis\"}],\"renderers\":[{\"id\":\"e266d851-633f-4db3-9007-739c5a37d898\",\"type\":\"BoxAnnotation\"},{\"id\":\"6007f591-5387-4752-9bf0-a49e72581752\",\"type\":\"GlyphRenderer\"},{\"id\":\"5831b032-b52c-4b9e-99a7-44d8dc442721\",\"type\":\"GlyphRenderer\"},{\"id\":\"5092cf99-00d1-4f42-a6f6-ec4b680f3eb0\",\"type\":\"GlyphRenderer\"},{\"id\":\"5f71db97-a801-4cbe-bbc8-c4d0d6d3ec7e\",\"type\":\"GlyphRenderer\"},{\"id\":\"54309fdf-2989-4ae2-8ec0-4bbdf3ff560c\",\"type\":\"GlyphRenderer\"},{\"id\":\"75843e2f-550b-4e40-9e44-6d8400b9d2e7\",\"type\":\"GlyphRenderer\"},{\"id\":\"ce326d58-dc72-4210-99a2-586c2baf7e94\",\"type\":\"GlyphRenderer\"},{\"id\":\"08f227c0-dd2a-44eb-b5a3-463a91856ca8\",\"type\":\"GlyphRenderer\"},{\"id\":\"bcc7d7c5-b89b-4356-8a12-538664f0900e\",\"type\":\"GlyphRenderer\"},{\"id\":\"f3aeb7d0-fe69-46bf-b2bd-a69848cb142c\",\"type\":\"GlyphRenderer\"},{\"id\":\"f4130333-1785-460d-a201-db506e03c6d4\",\"type\":\"GlyphRenderer\"},{\"id\":\"a6705ac7-c8ea-41ac-a2da-63697f71def7\",\"type\":\"GlyphRenderer\"},{\"id\":\"2aad28de-5de9-4cf7-aae4-980f3cab3936\",\"type\":\"GlyphRenderer\"},{\"id\":\"5c4ea0a4-3ef3-4326-bcf3-81b141465b7a\",\"type\":\"GlyphRenderer\"},{\"id\":\"ff9ef776-1984-400a-9bc4-d7092e5099a5\",\"type\":\"GlyphRenderer\"},{\"id\":\"b598850f-aadb-4042-a8f8-a4bfc1434f8e\",\"type\":\"Legend\"},{\"id\":\"6c2ff9f6-3cdf-4ad4-baa3-d1358cef0cc6\",\"type\":\"LinearAxis\"},{\"id\":\"581df7be-f89f-4698-94e4-abfc7df67b99\",\"type\":\"LinearAxis\"},{\"id\":\"26a05cad-cd87-4cef-aff5-bf8f61debd48\",\"type\":\"Grid\"}],\"title\":{\"id\":\"e633a00d-7814-459d-8736-51a48c952d79\",\"type\":\"Title\"},\"tool_events\":{\"id\":\"3f086df7-b3e6-4ca9-8a1b-ff4d99e98138\",\"type\":\"ToolEvents\"},\"toolbar\":{\"id\":\"285dcc6f-5e31-4184-950c-b80379f62513\",\"type\":\"Toolbar\"},\"x_mapper_type\":\"auto\",\"x_range\":{\"id\":\"b1220a28-fce6-4ea7-b9ad-3056ffa10659\",\"type\":\"Range1d\"},\"y_mapper_type\":\"auto\",\"y_range\":{\"id\":\"4ffb780c-0187-41b3-8b22-5baf8c38dbfb\",\"type\":\"Range1d\"}},\"id\":\"2cf3c512-b863-44f2-9303-6218506f3ad6\",\"subtype\":\"Chart\",\"type\":\"Plot\"},{\"attributes\":{\"axis_label\":\"Count( Load1 )\",\"formatter\":{\"id\":\"afc79991-41e5-4969-b4ae-3e9fadbdcea9\",\"type\":\"BasicTickFormatter\"},\"plot\":{\"id\":\"2cf3c512-b863-44f2-9303-6218506f3ad6\",\"subtype\":\"Chart\",\"type\":\"Plot\"},\"ticker\":{\"id\":\"fc594a11-3847-41ef-8c96-6fc22244f88f\",\"type\":\"BasicTicker\"}},\"id\":\"581df7be-f89f-4698-94e4-abfc7df67b99\",\"type\":\"LinearAxis\"},{\"attributes\":{\"callback\":null,\"end\":52.70550001525858,\"start\":-1.285500015258581},\"id\":\"b1220a28-fce6-4ea7-b9ad-3056ffa10659\",\"type\":\"Range1d\"},{\"attributes\":{\"data_source\":{\"id\":\"c8ce8237-12c8-4c32-b54f-30a39b25fc55\",\"type\":\"ColumnDataSource\"},\"glyph\":{\"id\":\"0e3a2528-8bbf-41e7-b3a1-317db188c1f0\",\"type\":\"Rect\"},\"hover_glyph\":null,\"muted_glyph\":null},\"id\":\"5c4ea0a4-3ef3-4326-bcf3-81b141465b7a\",\"type\":\"GlyphRenderer\"},{\"attributes\":{\"plot\":null,\"text\":null},\"id\":\"e633a00d-7814-459d-8736-51a48c952d79\",\"type\":\"Title\"},{\"attributes\":{\"axis_label\":\"load1\",\"formatter\":{\"id\":\"fa081a90-4fc3-42f1-91e1-b4ecd47e3d57\",\"type\":\"BasicTickFormatter\"},\"plot\":{\"id\":\"2cf3c512-b863-44f2-9303-6218506f3ad6\",\"subtype\":\"Chart\",\"type\":\"Plot\"},\"ticker\":{\"id\":\"1c101523-ad2e-42a9-b704-6d194454b429\",\"type\":\"BasicTicker\"}},\"id\":\"6c2ff9f6-3cdf-4ad4-baa3-d1358cef0cc6\",\"type\":\"LinearAxis\"},{\"attributes\":{\"active_drag\":\"auto\",\"active_scroll\":\"auto\",\"active_tap\":\"auto\",\"tools\":[{\"id\":\"c4ead415-412e-42b1-9bde-e1d03503cdf4\",\"type\":\"PanTool\"},{\"id\":\"b794be74-550f-4e32-95e6-b8cda4c96c26\",\"type\":\"WheelZoomTool\"},{\"id\":\"8238a53c-1d41-420e-968f-379a2960fffa\",\"type\":\"BoxZoomTool\"},{\"id\":\"9aab1fec-fd69-451a-ba47-a19b9dc826a6\",\"type\":\"SaveTool\"},{\"id\":\"dcc44df8-aa33-452e-992e-c4e795e93648\",\"type\":\"ResetTool\"},{\"id\":\"1b9aa6f6-231e-4fac-bdd2-baad32a2b57e\",\"type\":\"HelpTool\"}]},\"id\":\"285dcc6f-5e31-4184-950c-b80379f62513\",\"type\":\"Toolbar\"},{\"attributes\":{\"location\":\"top_left\",\"plot\":{\"id\":\"2cf3c512-b863-44f2-9303-6218506f3ad6\",\"subtype\":\"Chart\",\"type\":\"Plot\"}},\"id\":\"b598850f-aadb-4042-a8f8-a4bfc1434f8e\",\"type\":\"Legend\"},{\"attributes\":{\"plot\":{\"id\":\"2cf3c512-b863-44f2-9303-6218506f3ad6\",\"subtype\":\"Chart\",\"type\":\"Plot\"}},\"id\":\"c4ead415-412e-42b1-9bde-e1d03503cdf4\",\"type\":\"PanTool\"},{\"attributes\":{\"overlay\":{\"id\":\"e266d851-633f-4db3-9007-739c5a37d898\",\"type\":\"BoxAnnotation\"},\"plot\":{\"id\":\"2cf3c512-b863-44f2-9303-6218506f3ad6\",\"subtype\":\"Chart\",\"type\":\"Plot\"}},\"id\":\"8238a53c-1d41-420e-968f-379a2960fffa\",\"type\":\"BoxZoomTool\"},{\"attributes\":{\"plot\":{\"id\":\"2cf3c512-b863-44f2-9303-6218506f3ad6\",\"subtype\":\"Chart\",\"type\":\"Plot\"}},\"id\":\"b794be74-550f-4e32-95e6-b8cda4c96c26\",\"type\":\"WheelZoomTool\"},{\"attributes\":{\"plot\":{\"id\":\"2cf3c512-b863-44f2-9303-6218506f3ad6\",\"subtype\":\"Chart\",\"type\":\"Plot\"}},\"id\":\"9aab1fec-fd69-451a-ba47-a19b9dc826a6\",\"type\":\"SaveTool\"},{\"attributes\":{\"plot\":{\"id\":\"2cf3c512-b863-44f2-9303-6218506f3ad6\",\"subtype\":\"Chart\",\"type\":\"Plot\"}},\"id\":\"dcc44df8-aa33-452e-992e-c4e795e93648\",\"type\":\"ResetTool\"},{\"attributes\":{\"plot\":{\"id\":\"2cf3c512-b863-44f2-9303-6218506f3ad6\",\"subtype\":\"Chart\",\"type\":\"Plot\"}},\"id\":\"1b9aa6f6-231e-4fac-bdd2-baad32a2b57e\",\"type\":\"HelpTool\"},{\"attributes\":{\"callback\":null,\"column_names\":[\"x\",\"y\",\"width\",\"height\",\"color\",\"fill_alpha\",\"line_color\",\"line_alpha\",\"label\"],\"data\":{\"chart_index\":[\"[0.000000, 3.428000]\"],\"color\":[\"#f22c40\"],\"fill_alpha\":[0.8],\"height\":[9775.0],\"label\":[\"[0.000000, 3.428000]\"],\"line_alpha\":[1.0],\"line_color\":[\"black\"],\"width\":[3.4280000305171616],\"x\":[\"1.714\"],\"y\":[4887.5]}},\"id\":\"d1c0203b-d926-4d9a-84c2-30e3402cc66b\",\"type\":\"ColumnDataSource\"},{\"attributes\":{\"fill_alpha\":{\"field\":\"fill_alpha\"},\"fill_color\":{\"field\":\"color\"},\"height\":{\"field\":\"height\",\"units\":\"data\"},\"line_color\":{\"field\":\"line_color\"},\"width\":{\"field\":\"width\",\"units\":\"data\"},\"x\":{\"field\":\"x\"},\"y\":{\"field\":\"y\"}},\"id\":\"3fa44b2d-cffe-4ffe-a1aa-31805f1a9878\",\"type\":\"Rect\"},{\"attributes\":{\"fill_alpha\":{\"field\":\"fill_alpha\"},\"fill_color\":{\"field\":\"color\"},\"height\":{\"field\":\"height\",\"units\":\"data\"},\"line_color\":{\"field\":\"line_color\"},\"width\":{\"field\":\"width\",\"units\":\"data\"},\"x\":{\"field\":\"x\"},\"y\":{\"field\":\"y\"}},\"id\":\"29087689-53dd-4c96-9204-b645299bfad1\",\"type\":\"Rect\"},{\"attributes\":{\"fill_alpha\":{\"field\":\"fill_alpha\"},\"fill_color\":{\"field\":\"color\"},\"height\":{\"field\":\"height\",\"units\":\"data\"},\"line_color\":{\"field\":\"line_color\"},\"width\":{\"field\":\"width\",\"units\":\"data\"},\"x\":{\"field\":\"x\"},\"y\":{\"field\":\"y\"}},\"id\":\"6cd14997-a7ec-469e-983d-a5f8dd698e32\",\"type\":\"Rect\"},{\"attributes\":{\"callback\":null,\"column_names\":[\"x\",\"y\",\"width\",\"height\",\"color\",\"fill_alpha\",\"line_color\",\"line_alpha\",\"label\"],\"data\":{\"chart_index\":[\"(3.428000, 6.856000]\"],\"color\":[\"#f22c40\"],\"fill_alpha\":[0.8],\"height\":[245.0],\"label\":[\"(3.428000, 6.856000]\"],\"line_alpha\":[1.0],\"line_color\":[\"black\"],\"width\":[3.4280000305171616],\"x\":[\"5.1419999999999995\"],\"y\":[122.5]}},\"id\":\"70793f71-22d2-49f1-9c50-500e59b8e9e2\",\"type\":\"ColumnDataSource\"},{\"attributes\":{\"data_source\":{\"id\":\"d1c0203b-d926-4d9a-84c2-30e3402cc66b\",\"type\":\"ColumnDataSource\"},\"glyph\":{\"id\":\"3fa44b2d-cffe-4ffe-a1aa-31805f1a9878\",\"type\":\"Rect\"},\"hover_glyph\":null,\"muted_glyph\":null},\"id\":\"6007f591-5387-4752-9bf0-a49e72581752\",\"type\":\"GlyphRenderer\"},{\"attributes\":{\"callback\":null,\"column_names\":[\"x\",\"y\",\"width\",\"height\",\"color\",\"fill_alpha\",\"line_color\",\"line_alpha\",\"label\"],\"data\":{\"chart_index\":[\"(23.996000, 27.424000]\"],\"color\":[\"#f22c40\"],\"fill_alpha\":[0.8],\"height\":[7.0],\"label\":[\"(23.996000, 27.424000]\"],\"line_alpha\":[1.0],\"line_color\":[\"black\"],\"width\":[3.428000030517161],\"x\":[\"25.71\"],\"y\":[3.5]}},\"id\":\"207280d1-4108-46f5-a44c-34bdca595d17\",\"type\":\"ColumnDataSource\"},{\"attributes\":{\"fill_alpha\":{\"field\":\"fill_alpha\"},\"fill_color\":{\"field\":\"color\"},\"height\":{\"field\":\"height\",\"units\":\"data\"},\"line_color\":{\"field\":\"line_color\"},\"width\":{\"field\":\"width\",\"units\":\"data\"},\"x\":{\"field\":\"x\"},\"y\":{\"field\":\"y\"}},\"id\":\"965eddae-88f2-4573-b108-e3805008596b\",\"type\":\"Rect\"},{\"attributes\":{\"data_source\":{\"id\":\"70793f71-22d2-49f1-9c50-500e59b8e9e2\",\"type\":\"ColumnDataSource\"},\"glyph\":{\"id\":\"29087689-53dd-4c96-9204-b645299bfad1\",\"type\":\"Rect\"},\"hover_glyph\":null,\"muted_glyph\":null},\"id\":\"5831b032-b52c-4b9e-99a7-44d8dc442721\",\"type\":\"GlyphRenderer\"},{\"attributes\":{\"callback\":null,\"column_names\":[\"x\",\"y\",\"width\",\"height\",\"color\",\"fill_alpha\",\"line_color\",\"line_alpha\",\"label\"],\"data\":{\"chart_index\":[\"(6.856000, 10.284000]\"],\"color\":[\"#f22c40\"],\"fill_alpha\":[0.8],\"height\":[82.0],\"label\":[\"(6.856000, 10.284000]\"],\"line_alpha\":[1.0],\"line_color\":[\"black\"],\"width\":[3.428000030517162],\"x\":[\"8.57\"],\"y\":[41.0]}},\"id\":\"a63f3b5c-121e-4d12-964e-1564c7345088\",\"type\":\"ColumnDataSource\"},{\"attributes\":{\"fill_alpha\":{\"field\":\"fill_alpha\"},\"fill_color\":{\"field\":\"color\"},\"height\":{\"field\":\"height\",\"units\":\"data\"},\"line_color\":{\"field\":\"line_color\"},\"width\":{\"field\":\"width\",\"units\":\"data\"},\"x\":{\"field\":\"x\"},\"y\":{\"field\":\"y\"}},\"id\":\"2be58983-5d35-454e-9429-31193fcb6c3b\",\"type\":\"Rect\"},{\"attributes\":{\"callback\":null,\"column_names\":[\"x\",\"y\",\"width\",\"height\",\"color\",\"fill_alpha\",\"line_color\",\"line_alpha\",\"label\"],\"data\":{\"chart_index\":[\"(10.284000, 13.712000]\"],\"color\":[\"#f22c40\"],\"fill_alpha\":[0.8],\"height\":[57.0],\"label\":[\"(10.284000, 13.712000]\"],\"line_alpha\":[1.0],\"line_color\":[\"black\"],\"width\":[3.428000030517161],\"x\":[\"11.998000000000001\"],\"y\":[28.5]}},\"id\":\"5c8c15ad-9436-433f-b41d-f5467edc481e\",\"type\":\"ColumnDataSource\"},{\"attributes\":{\"fill_alpha\":{\"field\":\"fill_alpha\"},\"fill_color\":{\"field\":\"color\"},\"height\":{\"field\":\"height\",\"units\":\"data\"},\"line_color\":{\"field\":\"line_color\"},\"width\":{\"field\":\"width\",\"units\":\"data\"},\"x\":{\"field\":\"x\"},\"y\":{\"field\":\"y\"}},\"id\":\"d0bfdeb2-fff6-462d-9cce-52b82bd83bd5\",\"type\":\"Rect\"},{\"attributes\":{\"data_source\":{\"id\":\"a63f3b5c-121e-4d12-964e-1564c7345088\",\"type\":\"ColumnDataSource\"},\"glyph\":{\"id\":\"2be58983-5d35-454e-9429-31193fcb6c3b\",\"type\":\"Rect\"},\"hover_glyph\":null,\"muted_glyph\":null},\"id\":\"5092cf99-00d1-4f42-a6f6-ec4b680f3eb0\",\"type\":\"GlyphRenderer\"},{\"attributes\":{\"data_source\":{\"id\":\"08dddbe0-6948-4402-bbab-79aedaece5a7\",\"type\":\"ColumnDataSource\"},\"glyph\":{\"id\":\"8564c23e-49c7-4e72-b703-bbc7aced068a\",\"type\":\"Rect\"},\"hover_glyph\":null,\"muted_glyph\":null},\"id\":\"ce326d58-dc72-4210-99a2-586c2baf7e94\",\"type\":\"GlyphRenderer\"},{\"attributes\":{\"fill_alpha\":{\"field\":\"fill_alpha\"},\"fill_color\":{\"field\":\"color\"},\"height\":{\"field\":\"height\",\"units\":\"data\"},\"line_color\":{\"field\":\"line_color\"},\"width\":{\"field\":\"width\",\"units\":\"data\"},\"x\":{\"field\":\"x\"},\"y\":{\"field\":\"y\"}},\"id\":\"8564c23e-49c7-4e72-b703-bbc7aced068a\",\"type\":\"Rect\"},{\"attributes\":{\"data_source\":{\"id\":\"5c8c15ad-9436-433f-b41d-f5467edc481e\",\"type\":\"ColumnDataSource\"},\"glyph\":{\"id\":\"965eddae-88f2-4573-b108-e3805008596b\",\"type\":\"Rect\"},\"hover_glyph\":null,\"muted_glyph\":null},\"id\":\"5f71db97-a801-4cbe-bbc8-c4d0d6d3ec7e\",\"type\":\"GlyphRenderer\"},{\"attributes\":{\"callback\":null,\"column_names\":[\"x\",\"y\",\"width\",\"height\",\"color\",\"fill_alpha\",\"line_color\",\"line_alpha\",\"label\"],\"data\":{\"chart_index\":[\"(13.712000, 17.140000]\"],\"color\":[\"#f22c40\"],\"fill_alpha\":[0.8],\"height\":[29.0],\"label\":[\"(13.712000, 17.140000]\"],\"line_alpha\":[1.0],\"line_color\":[\"black\"],\"width\":[3.428000030517163],\"x\":[\"15.426\"],\"y\":[14.5]}},\"id\":\"7e97ab31-3bc9-4a54-b7ac-37d122aa6ace\",\"type\":\"ColumnDataSource\"},{\"attributes\":{\"fill_alpha\":{\"field\":\"fill_alpha\"},\"fill_color\":{\"field\":\"color\"},\"height\":{\"field\":\"height\",\"units\":\"data\"},\"line_color\":{\"field\":\"line_color\"},\"width\":{\"field\":\"width\",\"units\":\"data\"},\"x\":{\"field\":\"x\"},\"y\":{\"field\":\"y\"}},\"id\":\"c58de2ee-3332-4c2b-9206-9dcedca02518\",\"type\":\"Rect\"},{\"attributes\":{\"callback\":null,\"column_names\":[\"x\",\"y\",\"width\",\"height\",\"color\",\"fill_alpha\",\"line_color\",\"line_alpha\",\"label\"],\"data\":{\"chart_index\":[\"(20.568000, 23.996000]\"],\"color\":[\"#f22c40\"],\"fill_alpha\":[0.8],\"height\":[11.0],\"label\":[\"(20.568000, 23.996000]\"],\"line_alpha\":[1.0],\"line_color\":[\"black\"],\"width\":[3.428000030517161],\"x\":[\"22.282\"],\"y\":[5.5]}},\"id\":\"08dddbe0-6948-4402-bbab-79aedaece5a7\",\"type\":\"ColumnDataSource\"},{\"attributes\":{\"bottom_units\":\"screen\",\"fill_alpha\":{\"value\":0.5},\"fill_color\":{\"value\":\"lightgrey\"},\"left_units\":\"screen\",\"level\":\"overlay\",\"line_alpha\":{\"value\":1.0},\"line_color\":{\"value\":\"black\"},\"line_dash\":[4,4],\"line_width\":{\"value\":2},\"plot\":null,\"render_mode\":\"css\",\"right_units\":\"screen\",\"top_units\":\"screen\"},\"id\":\"e266d851-633f-4db3-9007-739c5a37d898\",\"type\":\"BoxAnnotation\"},{\"attributes\":{\"data_source\":{\"id\":\"7e97ab31-3bc9-4a54-b7ac-37d122aa6ace\",\"type\":\"ColumnDataSource\"},\"glyph\":{\"id\":\"c58de2ee-3332-4c2b-9206-9dcedca02518\",\"type\":\"Rect\"},\"hover_glyph\":null,\"muted_glyph\":null},\"id\":\"54309fdf-2989-4ae2-8ec0-4bbdf3ff560c\",\"type\":\"GlyphRenderer\"},{\"attributes\":{\"fill_alpha\":{\"field\":\"fill_alpha\"},\"fill_color\":{\"field\":\"color\"},\"height\":{\"field\":\"height\",\"units\":\"data\"},\"line_color\":{\"field\":\"line_color\"},\"width\":{\"field\":\"width\",\"units\":\"data\"},\"x\":{\"field\":\"x\"},\"y\":{\"field\":\"y\"}},\"id\":\"6fa52d60-c5f9-482c-bfc9-b7ecdae459a3\",\"type\":\"Rect\"},{\"attributes\":{\"data_source\":{\"id\":\"0895221e-3db7-417b-a17d-a22b21760991\",\"type\":\"ColumnDataSource\"},\"glyph\":{\"id\":\"6fa52d60-c5f9-482c-bfc9-b7ecdae459a3\",\"type\":\"Rect\"},\"hover_glyph\":null,\"muted_glyph\":null},\"id\":\"75843e2f-550b-4e40-9e44-6d8400b9d2e7\",\"type\":\"GlyphRenderer\"},{\"attributes\":{\"callback\":null,\"column_names\":[\"x\",\"y\",\"width\",\"height\",\"color\",\"fill_alpha\",\"line_color\",\"line_alpha\",\"label\"],\"data\":{\"chart_index\":[\"(17.140000, 20.568000]\"],\"color\":[\"#f22c40\"],\"fill_alpha\":[0.8],\"height\":[21.0],\"label\":[\"(17.140000, 20.568000]\"],\"line_alpha\":[1.0],\"line_color\":[\"black\"],\"width\":[3.428000030517161],\"x\":[\"18.854\"],\"y\":[10.5]}},\"id\":\"0895221e-3db7-417b-a17d-a22b21760991\",\"type\":\"ColumnDataSource\"}],\"root_ids\":[\"2cf3c512-b863-44f2-9303-6218506f3ad6\"]},\"title\":\"Bokeh Application\",\"version\":\"0.12.5\"}};\n",
       "            var render_items = [{\"docid\":\"22b95dcf-fc4a-4aca-8f44-ab64eda561ba\",\"elementid\":\"d916bf82-9029-46e4-a16f-c818123d8df0\",\"modelid\":\"2cf3c512-b863-44f2-9303-6218506f3ad6\"}];\n",
       "            \n",
       "            Bokeh.embed.embed_items(docs_json, render_items);\n",
       "          };\n",
       "          if (document.readyState != \"loading\") fn();\n",
       "          else document.addEventListener(\"DOMContentLoaded\", fn);\n",
       "        })();\n",
       "      },\n",
       "      function(Bokeh) {\n",
       "      }\n",
       "    ];\n",
       "  \n",
       "    function run_inline_js() {\n",
       "      \n",
       "      if ((window.Bokeh !== undefined) || (force === true)) {\n",
       "        for (var i = 0; i < inline_js.length; i++) {\n",
       "          inline_js[i](window.Bokeh);\n",
       "        }if (force === true) {\n",
       "          display_loaded();\n",
       "        }} else if (Date.now() < window._bokeh_timeout) {\n",
       "        setTimeout(run_inline_js, 100);\n",
       "      } else if (!window._bokeh_failed_load) {\n",
       "        console.log(\"Bokeh: BokehJS failed to load within specified timeout.\");\n",
       "        window._bokeh_failed_load = true;\n",
       "      } else if (force !== true) {\n",
       "        var cell = $(document.getElementById(\"d916bf82-9029-46e4-a16f-c818123d8df0\")).parents('.cell').data().cell;\n",
       "        cell.output_area.append_execute_result(NB_LOAD_WARNING)\n",
       "      }\n",
       "  \n",
       "    }\n",
       "  \n",
       "    if (window._bokeh_is_loading === 0) {\n",
       "      console.log(\"Bokeh: BokehJS loaded, going straight to plotting\");\n",
       "      run_inline_js();\n",
       "    } else {\n",
       "      load_libs(js_urls, function() {\n",
       "        console.log(\"Bokeh: BokehJS plotting callback run at\", now());\n",
       "        run_inline_js();\n",
       "      });\n",
       "    }\n",
       "  }(this));\n",
       "</script>"
      ]
     },
     "metadata": {},
     "output_type": "display_data"
    }
   ],
   "source": [
    "p = Histogram(service_instances[service_instances.ts == 39600].load1, bins=15)\n",
    "show(p)"
   ]
  },
  {
   "cell_type": "code",
   "execution_count": 9,
   "metadata": {},
   "outputs": [
    {
     "data": {
      "text/plain": [
       "10260"
      ]
     },
     "execution_count": 9,
     "metadata": {},
     "output_type": "execute_result"
    }
   ],
   "source": [
    "len(service_instances[service_instances.ts == 39600].load1)"
   ]
  },
  {
   "cell_type": "code",
   "execution_count": 10,
   "metadata": {},
   "outputs": [],
   "source": [
    "from service_machine import *"
   ]
  },
  {
   "cell_type": "markdown",
   "metadata": {},
   "source": [
    "## time_stamp_machine returns a dictionary schema is as follows\n",
    "\n",
    "```\n",
    "    { \n",
    "        machine_id: \n",
    "        {\n",
    "            instance_id: \n",
    "            {\n",
    "                plan_cpu:\n",
    "                plan_mem:\n",
    "                plan_disk:\n",
    "                cpu_set: []\n",
    "                cpu_util:\n",
    "                mem_util:\n",
    "                disk_util:\n",
    "                load1:\n",
    "                load5:\n",
    "             }\n",
    "         }\n",
    "     }\n",
    "```\n",
    "        "
   ]
  },
  {
   "cell_type": "code",
   "execution_count": 12,
   "metadata": {},
   "outputs": [],
   "source": [
    "machine_services = time_stamp_machine(39600, service_containers, service_instances)"
   ]
  },
  {
   "cell_type": "code",
   "execution_count": 19,
   "metadata": {},
   "outputs": [],
   "source": [
    "cpus = []\n",
    "for instance in machine_services[1]:\n",
    "    for cpu in machine_services[1][instance][\"cpu_set\"]:\n",
    "        cpus.append(int(cpu))\n",
    "        \n",
    "cpus.sort()"
   ]
  },
  {
   "cell_type": "markdown",
   "metadata": {},
   "source": [
    "### As you might expect every CPU is being used. It doesn't appear that there is any overlap on this particular machine"
   ]
  },
  {
   "cell_type": "code",
   "execution_count": 21,
   "metadata": {},
   "outputs": [
    {
     "data": {
      "text/plain": [
       "[0,\n",
       " 1,\n",
       " 2,\n",
       " 3,\n",
       " 4,\n",
       " 5,\n",
       " 6,\n",
       " 7,\n",
       " 8,\n",
       " 9,\n",
       " 10,\n",
       " 11,\n",
       " 12,\n",
       " 13,\n",
       " 14,\n",
       " 15,\n",
       " 16,\n",
       " 17,\n",
       " 18,\n",
       " 19,\n",
       " 20,\n",
       " 21,\n",
       " 22,\n",
       " 23,\n",
       " 24,\n",
       " 25,\n",
       " 26,\n",
       " 27,\n",
       " 28,\n",
       " 29,\n",
       " 30,\n",
       " 31,\n",
       " 32,\n",
       " 33,\n",
       " 34,\n",
       " 35,\n",
       " 36,\n",
       " 37,\n",
       " 38,\n",
       " 39,\n",
       " 40,\n",
       " 41,\n",
       " 42,\n",
       " 43,\n",
       " 44,\n",
       " 45,\n",
       " 46,\n",
       " 47,\n",
       " 48,\n",
       " 49,\n",
       " 50,\n",
       " 51,\n",
       " 52,\n",
       " 53,\n",
       " 54,\n",
       " 55,\n",
       " 56,\n",
       " 57,\n",
       " 58,\n",
       " 59,\n",
       " 60,\n",
       " 61,\n",
       " 62,\n",
       " 63]"
      ]
     },
     "execution_count": 21,
     "metadata": {},
     "output_type": "execute_result"
    }
   ],
   "source": [
    "cpus"
   ]
  },
  {
   "cell_type": "code",
   "execution_count": null,
   "metadata": {
    "collapsed": true
   },
   "outputs": [],
   "source": []
  }
 ],
 "metadata": {
  "kernelspec": {
   "display_name": "Python 3",
   "language": "python",
   "name": "python3"
  },
  "language_info": {
   "codemirror_mode": {
    "name": "ipython",
    "version": 3
   },
   "file_extension": ".py",
   "mimetype": "text/x-python",
   "name": "python",
   "nbconvert_exporter": "python",
   "pygments_lexer": "ipython3",
   "version": "3.6.1"
  }
 },
 "nbformat": 4,
 "nbformat_minor": 2
}
