{
 "cells": [
  {
   "cell_type": "code",
   "execution_count": 2,
   "metadata": {
    "collapsed": true
   },
   "outputs": [],
   "source": [
    "import pandas as pd\n",
    "import numpy as np"
   ]
  },
  {
   "cell_type": "code",
   "execution_count": 3,
   "metadata": {
    "collapsed": true
   },
   "outputs": [],
   "source": [
    "service_containers = pd.read_csv(\"/Users/codyblakeney/gc_project/data/container_event.csv\", name=[\"ts\", \"event\", \"instance_id\", \"plan_cpu\", \"plan_mem\", \"plan_disk\", \"cpuset\"]))"
   ]
  },
  {
   "cell_type": "code",
   "execution_count": 4,
   "metadata": {},
   "outputs": [
    {
     "data": {
      "text/html": [
       "<div>\n",
       "<style>\n",
       "    .dataframe thead tr:only-child th {\n",
       "        text-align: right;\n",
       "    }\n",
       "\n",
       "    .dataframe thead th {\n",
       "        text-align: left;\n",
       "    }\n",
       "\n",
       "    .dataframe tbody tr th {\n",
       "        vertical-align: top;\n",
       "    }\n",
       "</style>\n",
       "<table border=\"1\" class=\"dataframe\">\n",
       "  <thead>\n",
       "    <tr style=\"text-align: right;\">\n",
       "      <th></th>\n",
       "      <th>0</th>\n",
       "      <th>Create</th>\n",
       "      <th>10000</th>\n",
       "      <th>934</th>\n",
       "      <th>4</th>\n",
       "      <th>0.042409339165997983</th>\n",
       "      <th>0.0340851218221338</th>\n",
       "      <th>40|41|42|43</th>\n",
       "      <th>Unnamed: 8</th>\n",
       "    </tr>\n",
       "  </thead>\n",
       "  <tbody>\n",
       "    <tr>\n",
       "      <th>0</th>\n",
       "      <td>0</td>\n",
       "      <td>Create</td>\n",
       "      <td>1000</td>\n",
       "      <td>1295</td>\n",
       "      <td>8</td>\n",
       "      <td>0.084819</td>\n",
       "      <td>0.056809</td>\n",
       "      <td>56|57|58|59|60|61|62|63</td>\n",
       "      <td>NaN</td>\n",
       "    </tr>\n",
       "    <tr>\n",
       "      <th>1</th>\n",
       "      <td>0</td>\n",
       "      <td>Create</td>\n",
       "      <td>10001</td>\n",
       "      <td>668</td>\n",
       "      <td>8</td>\n",
       "      <td>0.084819</td>\n",
       "      <td>0.056809</td>\n",
       "      <td>24|25|26|27|28|29|30|31</td>\n",
       "      <td>NaN</td>\n",
       "    </tr>\n",
       "    <tr>\n",
       "      <th>2</th>\n",
       "      <td>0</td>\n",
       "      <td>Create</td>\n",
       "      <td>10002</td>\n",
       "      <td>1217</td>\n",
       "      <td>8</td>\n",
       "      <td>0.084819</td>\n",
       "      <td>0.056809</td>\n",
       "      <td>4|5|6|7|8|9|10|11</td>\n",
       "      <td>NaN</td>\n",
       "    </tr>\n",
       "    <tr>\n",
       "      <th>3</th>\n",
       "      <td>0</td>\n",
       "      <td>Create</td>\n",
       "      <td>10003</td>\n",
       "      <td>1019</td>\n",
       "      <td>4</td>\n",
       "      <td>0.042409</td>\n",
       "      <td>0.034085</td>\n",
       "      <td>36|37|38|39</td>\n",
       "      <td>NaN</td>\n",
       "    </tr>\n",
       "    <tr>\n",
       "      <th>4</th>\n",
       "      <td>0</td>\n",
       "      <td>Create</td>\n",
       "      <td>10004</td>\n",
       "      <td>872</td>\n",
       "      <td>4</td>\n",
       "      <td>0.042409</td>\n",
       "      <td>0.034085</td>\n",
       "      <td>36|37|38|39</td>\n",
       "      <td>NaN</td>\n",
       "    </tr>\n",
       "  </tbody>\n",
       "</table>\n",
       "</div>"
      ],
      "text/plain": [
       "   0  Create  10000   934  4  0.042409339165997983  0.0340851218221338  \\\n",
       "0  0  Create   1000  1295  8              0.084819            0.056809   \n",
       "1  0  Create  10001   668  8              0.084819            0.056809   \n",
       "2  0  Create  10002  1217  8              0.084819            0.056809   \n",
       "3  0  Create  10003  1019  4              0.042409            0.034085   \n",
       "4  0  Create  10004   872  4              0.042409            0.034085   \n",
       "\n",
       "               40|41|42|43  Unnamed: 8  \n",
       "0  56|57|58|59|60|61|62|63         NaN  \n",
       "1  24|25|26|27|28|29|30|31         NaN  \n",
       "2        4|5|6|7|8|9|10|11         NaN  \n",
       "3              36|37|38|39         NaN  \n",
       "4              36|37|38|39         NaN  "
      ]
     },
     "execution_count": 4,
     "metadata": {},
     "output_type": "execute_result"
    }
   ],
   "source": [
    "service_containers.head()"
   ]
  },
  {
   "cell_type": "code",
   "execution_count": null,
   "metadata": {
    "collapsed": true
   },
   "outputs": [],
   "source": []
  }
 ],
 "metadata": {
  "kernelspec": {
   "display_name": "Python 3",
   "language": "python",
   "name": "python3"
  },
  "language_info": {
   "codemirror_mode": {
    "name": "ipython",
    "version": 3
   },
   "file_extension": ".py",
   "mimetype": "text/x-python",
   "name": "python",
   "nbconvert_exporter": "python",
   "pygments_lexer": "ipython3",
   "version": "3.6.1"
  }
 },
 "nbformat": 4,
 "nbformat_minor": 2
}
